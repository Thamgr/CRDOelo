{
  "cells": [
    {
      "cell_type": "code",
      "execution_count": null,
      "metadata": {
        "id": "GT_b-F8xk2il"
      },
      "outputs": [],
      "source": [
        "import numpy as np\n",
        "import json\n",
        "import math\n",
        "from termcolor import colored\n",
        "\n",
        "coef = 37\n",
        "marg = 0.1"
      ]
    },
    {
      "cell_type": "code",
      "execution_count": null,
      "metadata": {
        "id": "tWVuU42lk_Sm"
      },
      "outputs": [],
      "source": [
        "def elo_prob(r1, r2):\n",
        "    return 1 / (1 + 10 ** ((r2 - r1) / 400))\n",
        "\n",
        "def get_xPi(rtgs, rtg):\n",
        "    n = len(rtgs)\n",
        "    xPi = 1\n",
        "    for i in range(n):\n",
        "        xPi += elo_prob(rtgs[i], rtg)\n",
        "    return xPi - elo_prob(sum(rtgs) / n, rtg)\n",
        "\n",
        "def get_xP(rtgs):\n",
        "    n = len(rtgs)\n",
        "    xP = np.zeros(n)\n",
        "    for i in range(n):\n",
        "        xPi = 0.5\n",
        "        for j in range(n):\n",
        "            xPi += elo_prob(rtgs[j], rtgs[i])\n",
        "        xP[i] = xPi\n",
        "    return np.array(xP)\n",
        "\n",
        "def get_perfs(rtgs):\n",
        "    n = len(rtgs)\n",
        "    perfs = np.zeros(n)\n",
        "    places = list(range(1, n + 1))\n",
        "    places[0] += marg\n",
        "    places[n - 1] -= marg\n",
        "    for p in range(n):\n",
        "        l, r = 0, 3000\n",
        "        for it in range(50):\n",
        "            m = (l + r) / 2\n",
        "            if get_xPi(rtgs, m) < places[p]:\n",
        "                r = m\n",
        "            else:\n",
        "                l = m\n",
        "        perfs[p] = l\n",
        "    return perfs"
      ]
    },
    {
      "cell_type": "code",
      "execution_count": null,
      "metadata": {
        "id": "A6nELPYelBEz"
      },
      "outputs": [],
      "source": [
        "# текущий рейтинг\n",
        "rtgs = np.array([1971, 1697, 1640, 1617, 1475, 1469, 1426, 1400, 1387, 1364])\n",
        "# место в контесте\n",
        "rP = np.array([1, 7, 7, 7, 7, 7, 7, 3, 3, 3])\n",
        "#"
      ]
    },
    {
      "cell_type": "code",
      "execution_count": null,
      "metadata": {
        "colab": {
          "base_uri": "https://localhost:8080/"
        },
        "id": "jzSzxOU7lDVy",
        "outputId": "6cfaf53d-bb5a-4f64-c9d1-550c10174b3d"
      },
      "outputs": [
        {
          "output_type": "stream",
          "name": "stdout",
          "text": [
            "#\told rating\tnew rating\tdelta\tperformance\n",
            "0       1971            1995 \t\t\u001b[32m+24\u001b[0m\t2452\n",
            "1       1697            1574 \t\t\u001b[31m-123\u001b[0m\t1386\n",
            "2       1640            1539 \t\t\u001b[31m-101\u001b[0m\t1386\n",
            "3       1617            1525 \t\t\u001b[31m-92\u001b[0m\t1386\n",
            "4       1475            1445 \t\t\u001b[31m-30\u001b[0m\t1386\n",
            "5       1469            1442 \t\t\u001b[31m-27\u001b[0m\t1386\n",
            "6       1426            1418 \t\t\u001b[31m-8\u001b[0m\t1386\n",
            "7       1400            1550 \t\t\u001b[32m+150\u001b[0m\t1808\n",
            "8       1387            1542 \t\t\u001b[32m+155\u001b[0m\t1808\n",
            "9       1364            1528 \t\t\u001b[32m+164\u001b[0m\t1808\n",
            "[1995, 1574, 1550, 1542, 1539, 1528, 1525, 1445, 1442, 1418]\n"
          ]
        }
      ],
      "source": [
        "n = len(rtgs)\n",
        "perfs = get_perfs(rtgs)\n",
        "xP = get_xP(rtgs)\n",
        "\n",
        "print(\"#\\told rating\\tnew rating\\tdelta\\tperformance\")\n",
        "\n",
        "nr = []\n",
        "\n",
        "for i in range(n):\n",
        "    delta = int(coef * (xP[i] - rP[i]))\n",
        "    nR = delta + rtgs[i]\n",
        "    nr.append(nR)\n",
        "    print(i, 5 * ' ', rtgs[i], 10 * ' ', nR, '\\t', end = '\\t')\n",
        "    if delta > 0:\n",
        "        print(colored('+' + str(delta), 'green'), end = '\\t')\n",
        "    elif delta < 0:\n",
        "        print(colored(delta, 'red'), end = '\\t')\n",
        "    else:\n",
        "        print(colored(delta, 'grey'), end = '\\t')\n",
        "    if int(rP[i]) == rP[i]:\n",
        "        perf = perfs[int(rP[i] - 1)]\n",
        "    else:\n",
        "        perf = 0.5 * (perfs[int(rP[i] + 0.5 - 1)] + perfs[int(rP[i] - 0.5 - 1)])\n",
        "    print(int(perf))\n",
        "\n",
        "print(sorted(nr)[::-1])"
      ]
    },
    {
      "cell_type": "code",
      "execution_count": null,
      "metadata": {
        "id": "uAjDw3EZ1_jw"
      },
      "outputs": [],
      "source": [
        ""
      ]
    }
  ],
  "metadata": {
    "colab": {
      "name": "CRDOelo.ipynb",
      "provenance": [],
      "collapsed_sections": []
    },
    "kernelspec": {
      "display_name": "Python 3",
      "name": "python3"
    },
    "language_info": {
      "name": "python"
    }
  },
  "nbformat": 4,
  "nbformat_minor": 0
}